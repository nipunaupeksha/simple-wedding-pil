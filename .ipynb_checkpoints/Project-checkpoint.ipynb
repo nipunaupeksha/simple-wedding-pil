{
 "cells": [
  {
   "cell_type": "code",
   "execution_count": 1,
   "id": "c015c580",
   "metadata": {},
   "outputs": [],
   "source": [
    "#Import libraries\n",
    "from PIL import Image, ImageDraw, ImageFont\n",
    "import re"
   ]
  },
  {
   "cell_type": "code",
   "execution_count": 2,
   "id": "4d159bdf",
   "metadata": {},
   "outputs": [],
   "source": [
    "def image_type(img, font, draw, text):\n",
    "    jpgname = text.split()\n",
    "    jpgname = ''.join(jpgname)\n",
    "    jpgname = re.sub(r'[^\\w\\s]', '', jpgname)\n",
    "    adjust = 100/len(text);\n",
    "    #draw.multiline_text((7600 + adjust , 1740), text, fill=(90, 94, 141), font=font)\n",
    "    draw.multiline_text((8600 + adjust , 1740), text, fill=(90, 94, 141), font=font)\n",
    "    print(f'Saving ... {text}')\n",
    "    img.save(f'images/{jpgname}.jpg')"
   ]
  },
  {
   "cell_type": "code",
   "execution_count": 4,
   "id": "e99e2e9a",
   "metadata": {},
   "outputs": [
    {
     "name": "stdout",
     "output_type": "stream",
     "text": [
      "Saving ... Mrs. A.D. Chandrani\n",
      "\n",
      "Saving ... Mrs. N.P. Weerasinghe\n",
      "\n",
      "Saving ... Mrs. R. Abeysekara\n",
      "\n",
      "Saving ... Mrs. Wasantha Kumari\n",
      "\n",
      "Saving ... Miss C. Damayanthi\n",
      "\n",
      "Saving ... Mrs. R. Gallage\n",
      "\n",
      "Saving ... Mr. & Mrs. Senevirathna\n",
      "\n",
      "Saving ... Mr. Jayawardana\n",
      "\n",
      "Saving ... Mr. & Mrs. N. Gamini & Family\n",
      "\n",
      "Saving ... Mr. & Mrs. M. Indrachapa\n",
      "\n",
      "Saving ... Mr. & Mrs. G. Sanjeewa & Family\n",
      "\n",
      "Saving ... Mr. Dulith Selaka\n",
      "\n",
      "Saving ... Mr. Shanka Koththagoda\n",
      "\n",
      "Saving ... Mr. & Mrs. R.M.B.J. Wijepala\n",
      "\n",
      "Saving ... Mr. Dilan Kaushalya\n",
      "\n",
      "Saving ... Mr. Poornamal Sanjula\n",
      "\n",
      "Saving ... Mr. Nandapala\n"
     ]
    }
   ],
   "source": [
    "file = open('src/names_nipuna.txt')\n",
    "for line in file:\n",
    "    img = Image.open('src/card_alt.jpg')\n",
    "    font = ImageFont.truetype('/Library/Fonts/PlayfairDisplay-VariableFont_wght.ttf', 180)\n",
    "    draw = ImageDraw.Draw(img)\n",
    "    image_type(img, font, draw, line)\n",
    "    img.close()\n",
    "file.close()"
   ]
  },
  {
   "cell_type": "code",
   "execution_count": null,
   "id": "f12eb13b",
   "metadata": {},
   "outputs": [],
   "source": []
  }
 ],
 "metadata": {
  "kernelspec": {
   "display_name": "Python 3",
   "language": "python",
   "name": "python3"
  },
  "language_info": {
   "codemirror_mode": {
    "name": "ipython",
    "version": 3
   },
   "file_extension": ".py",
   "mimetype": "text/x-python",
   "name": "python",
   "nbconvert_exporter": "python",
   "pygments_lexer": "ipython3",
   "version": "3.8.8"
  }
 },
 "nbformat": 4,
 "nbformat_minor": 5
}
